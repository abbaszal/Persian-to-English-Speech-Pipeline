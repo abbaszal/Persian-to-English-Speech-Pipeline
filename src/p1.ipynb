{
 "cells": [
  {
   "cell_type": "code",
   "execution_count": 10,
   "metadata": {},
   "outputs": [],
   "source": [
    "import torch\n",
    "from transformers import AutoModelForSpeechSeq2Seq, AutoProcessor, pipeline\n",
    "from datasets import load_dataset"
   ]
  },
  {
   "cell_type": "code",
   "execution_count": 11,
   "metadata": {},
   "outputs": [
    {
     "name": "stderr",
     "output_type": "stream",
     "text": [
      "Device set to use cuda:0\n",
      "/data/anaconda3/envs/p1/lib/python3.13/site-packages/transformers/models/whisper/generation_whisper.py:573: FutureWarning: The input name `inputs` is deprecated. Please make sure to use `input_features` instead.\n",
      "  warnings.warn(\n"
     ]
    },
    {
     "name": "stdout",
     "output_type": "stream",
     "text": [
      "Transcription:\n",
      " سلام من عباس زال هستم و این وویس برای تست مودل هست\n"
     ]
    }
   ],
   "source": [
    "\n",
    "device = \"cuda:0\" if torch.cuda.is_available() else \"cpu\"\n",
    "torch_dtype = torch.float16 if torch.cuda.is_available() else torch.float32\n",
    "\n",
    "\n",
    "model_id = \"openai/whisper-large-v3\"\n",
    "model = AutoModelForSpeechSeq2Seq.from_pretrained(\n",
    "    model_id, torch_dtype=torch_dtype, low_cpu_mem_usage=True, use_safetensors=True\n",
    ")\n",
    "model.to(device)\n",
    "processor = AutoProcessor.from_pretrained(model_id)\n",
    "\n",
    "\n",
    "pipe = pipeline(\n",
    "    \"automatic-speech-recognition\",\n",
    "    model=model,\n",
    "    tokenizer=processor.tokenizer,\n",
    "    feature_extractor=processor.feature_extractor,\n",
    "    torch_dtype=torch_dtype,\n",
    "    device=device,\n",
    ")\n",
    "\n",
    "\n",
    "wav_file_path = \"/data/HuGa/voice1.wav\"\n",
    "\n",
    "result = pipe(wav_file_path)\n",
    "\n",
    "print(\"Transcription:\")\n",
    "print(result[\"text\"])\n"
   ]
  },
  {
   "cell_type": "code",
   "execution_count": null,
   "metadata": {},
   "outputs": [
    {
     "name": "stdout",
     "output_type": "stream",
     "text": [
      "Translation:\n",
      "Persian to English: Hello, I am Abbas Zalal, and this is Weaver for the test.\n"
     ]
    }
   ],
   "source": [
    "from transformers import AutoTokenizer, AutoModelForSeq2SeqLM\n",
    "from transformers import pipeline\n",
    "\n",
    "\n",
    "tokenizer = AutoTokenizer.from_pretrained(\"SeyedAli/Persian-to-English-Translation-mT5-V1\")\n",
    "model = AutoModelForSeq2SeqLM.from_pretrained(\"SeyedAli/Persian-to-English-Translation-mT5-V1\")\n",
    "\n",
    "\n",
    "persian_text = result[\"text\"]\n",
    "\n",
    "input_text = f\"translate Persian to English: {persian_text}\"\n",
    "\n",
    "\n",
    "inputs = tokenizer(input_text, return_tensors=\"pt\")\n",
    "\n",
    "\n",
    "outputs = model.generate(**inputs, max_length=100)\n",
    "\n",
    "\n",
    "translation = tokenizer.decode(outputs[0], skip_special_tokens=True)\n",
    "print(\"Translation:\")\n",
    "print(translation)"
   ]
  },
  {
   "cell_type": "code",
   "execution_count": 14,
   "metadata": {},
   "outputs": [
    {
     "name": "stderr",
     "output_type": "stream",
     "text": [
      "/data/anaconda3/envs/p1/lib/python3.13/site-packages/transformers/models/whisper/generation_whisper.py:573: FutureWarning: The input name `inputs` is deprecated. Please make sure to use `input_features` instead.\n",
      "  warnings.warn(\n"
     ]
    },
    {
     "name": "stdout",
     "output_type": "stream",
     "text": [
      "Transcription:\n",
      " سلام من عباس زال هستم و در شهرستان ساوه متولد شدم\n"
     ]
    }
   ],
   "source": [
    "wav_file_path = \"/data/HuGa/test2.wav\"\n",
    "\n",
    "result = pipe(wav_file_path)\n",
    "\n",
    "print(\"Transcription:\")\n",
    "print(result[\"text\"])"
   ]
  },
  {
   "cell_type": "code",
   "execution_count": null,
   "metadata": {},
   "outputs": [
    {
     "name": "stdout",
     "output_type": "stream",
     "text": [
      "Translation:\n",
      "I am Abbas Zaal, born in the town of Soho.\n"
     ]
    }
   ],
   "source": [
    "persian_text = result[\"text\"]\n",
    "\n",
    "\n",
    "input_text = f\"translate Persian to English: {persian_text}\"\n",
    "\n",
    "\n",
    "inputs = tokenizer(input_text, return_tensors=\"pt\")\n",
    "\n",
    "\n",
    "outputs = model.generate(**inputs, max_length=100)\n",
    "\n",
    "translation = tokenizer.decode(outputs[0], skip_special_tokens=True)\n",
    "print(\"Translation:\")\n",
    "print(translation)"
   ]
  },
  {
   "cell_type": "code",
   "execution_count": null,
   "metadata": {},
   "outputs": [],
   "source": []
  }
 ],
 "metadata": {
  "kernelspec": {
   "display_name": "p1",
   "language": "python",
   "name": "python3"
  },
  "language_info": {
   "codemirror_mode": {
    "name": "ipython",
    "version": 3
   },
   "file_extension": ".py",
   "mimetype": "text/x-python",
   "name": "python",
   "nbconvert_exporter": "python",
   "pygments_lexer": "ipython3",
   "version": "3.13.2"
  }
 },
 "nbformat": 4,
 "nbformat_minor": 2
}
